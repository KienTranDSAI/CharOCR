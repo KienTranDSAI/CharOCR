{
 "cells": [
  {
   "cell_type": "code",
   "execution_count": 1,
   "metadata": {},
   "outputs": [],
   "source": [
    "import os\n",
    "import sys\n",
    "__dir__ = os.path.dirname(os.path.abspath(\"__file__\"))\n",
    "sys.path.append(__dir__)\n",
    "sys.path.insert(0, os.path.abspath(os.path.join(__dir__, \"..\")))"
   ]
  },
  {
   "cell_type": "code",
   "execution_count": 7,
   "metadata": {},
   "outputs": [],
   "source": [
    "from image_processing_vit import CharImageProcessor\n",
    "import load_model\n",
    "\n",
    "import random\n",
    "import os\n",
    "from PIL import Image\n",
    "from load_model import CharacterRecognition"
   ]
  },
  {
   "cell_type": "code",
   "execution_count": 10,
   "metadata": {},
   "outputs": [
    {
     "name": "stdout",
     "output_type": "stream",
     "text": [
      "[INFO] Initialize Character Recognition model (WaveMix) successfully!\n"
     ]
    }
   ],
   "source": [
    "character_ascii_path = \"../resources/character_ascii.json\"\n",
    "checkpoint_path = \"../checkpoints/wavemix_v1.pt\"\n",
    "model = CharacterRecognition(\n",
    "    character_ascii_path=character_ascii_path,\n",
    "    checkpoint_path = checkpoint_path,\n",
    "    gpu_id=0,\n",
    "    fixed_size=64\n",
    ")"
   ]
  },
  {
   "cell_type": "code",
   "execution_count": 24,
   "metadata": {},
   "outputs": [
    {
     "name": "stdout",
     "output_type": "stream",
     "text": [
      "False\n",
      "torch.Size([25, 3, 64, 64])\n"
     ]
    }
   ],
   "source": [
    "if True:\n",
    "    import matplotlib.pyplot as plt\n",
    "    from PIL import Image\n",
    "    import cv2\n",
    "    import numpy as np\n",
    "    image_processor = CharImageProcessor(do_normalize=True, do_rescale=True, do_resize=True, image_mean=[0.5,0.5,0.5],\n",
    "                                    image_std = [0.5,0.5,0.5], resample=2, size=384,\n",
    "                                    )\n",
    "    # res = image_processor.create_char_images(np.random.rand(3, 488,512))\n",
    "    # image = Image.open(\"/home/app/ocr/kientdt/CharOCR/test_images/GSK3.png\").convert(\"RGB\")\n",
    "    # image = cv2.imread(\"/data/ocr/data/text_recognition/ocr_data_v3_280225/Arial_Bold/images/img_1.jpg\")\n",
    "    # image1 = cv2.imread(\"/home/app/ocr/kientdt/CharOCR/test_images/GSK2.png\")\n",
    "    # image = np.transpose(image, (2,0,1))\n",
    "    # image1 = np.transpose(image1, (2,0,1))\n",
    "    device = 'cuda'\n",
    "    image_path = \"/data/ocr/data/text_recognition/ocr_data_v3_280225/Arial_Bold/images/img_12298.jpg\"\n",
    "    # image = Image.open(image_path).convert(\"RGB\")\n",
    "    image = cv2.imread(image_path)\n",
    "    pixel_values = image_processor(image, return_tensors=\"pt\").pixel_values.to(device)\n",
    "    print(pixel_values.shape)"
   ]
  },
  {
   "cell_type": "code",
   "execution_count": 25,
   "metadata": {},
   "outputs": [
    {
     "data": {
      "text/plain": [
       "<matplotlib.image.AxesImage at 0x7f402c324be0>"
      ]
     },
     "execution_count": 25,
     "metadata": {},
     "output_type": "execute_result"
    },
    {
     "data": {
      "image/png": "[encoded data removed]",
      "text/plain": [
       "<Figure size 640x480 with 1 Axes>"
      ]
     },
     "metadata": {},
     "output_type": "display_data"
    }
   ],
   "source": [
    "plt.imshow(image)"
   ]
  },
  {
   "cell_type": "code",
   "execution_count": 26,
   "metadata": {},
   "outputs": [
    {
     "name": "stdout",
     "output_type": "stream",
     "text": [
      "torch.Size([25, 3, 64, 64])\n"
     ]
    },
    {
     "data": {
      "image/png": "[encoded data removed]",
      "text/plain": [
       "<Figure size 640x480 with 1 Axes>"
      ]
     },
     "metadata": {},
     "output_type": "display_data"
    }
   ],
   "source": [
    "image = pixel_values.squeeze(0)  \n",
    "print(image.shape)\n",
    "# Convert to NumPy array and move channels to last dimension: (16, 480, 3)\n",
    "image = image.permute(0, 2, 3, 1).cpu().numpy()\n",
    "\n",
    "# Ensure values are in [0,1] for proper display\n",
    "image = np.clip(image, 0, 1)\n",
    "\n",
    "# Display the image\n",
    "plt.imshow(image[1])\n",
    "plt.axis(\"off\")  # Hide axes\n",
    "plt.savefig(\"test.png\")\n",
    "plt.show()\n"
   ]
  },
  {
   "cell_type": "code",
   "execution_count": 27,
   "metadata": {},
   "outputs": [
    {
     "data": {
      "text/plain": [
       "[[('m', 0.9999882)],\n",
       " [('ô', 0.9982558)],\n",
       " [('t', 0.9999864)],\n",
       " [('ơ', 0.99974364)],\n",
       " [('_', 0.83607227)],\n",
       " [('_', 0.83607227)],\n",
       " [('_', 0.83607227)],\n",
       " [('_', 0.83607227)],\n",
       " [('_', 0.83607227)],\n",
       " [('_', 0.83607227)],\n",
       " [('_', 0.83607227)],\n",
       " [('_', 0.83607227)],\n",
       " [('_', 0.83607227)],\n",
       " [('_', 0.83607227)],\n",
       " [('_', 0.83607227)],\n",
       " [('_', 0.83607227)],\n",
       " [('_', 0.83607227)],\n",
       " [('_', 0.83607227)],\n",
       " [('_', 0.83607227)],\n",
       " [('_', 0.83607227)],\n",
       " [('_', 0.83607227)],\n",
       " [('_', 0.83607227)],\n",
       " [('_', 0.83607227)],\n",
       " [('_', 0.83607227)],\n",
       " [('_', 0.83607227)]]"
      ]
     },
     "execution_count": 27,
     "metadata": {},
     "output_type": "execute_result"
    }
   ],
   "source": [
    "model((pixel_values), topk=1)"
   ]
  },
  {
   "cell_type": "code",
   "execution_count": null,
   "metadata": {},
   "outputs": [],
   "source": []
  }
 ],
 "metadata": {
  "kernelspec": {
   "display_name": "ocr",
   "language": "python",
   "name": "python3"
  },
  "language_info": {
   "codemirror_mode": {
    "name": "ipython",
    "version": 3
   },
   "file_extension": ".py",
   "mimetype": "text/x-python",
   "name": "python",
   "nbconvert_exporter": "python",
   "pygments_lexer": "ipython3",
   "version": "3.9.21"
  }
 },
 "nbformat": 4,
 "nbformat_minor": 2
}
